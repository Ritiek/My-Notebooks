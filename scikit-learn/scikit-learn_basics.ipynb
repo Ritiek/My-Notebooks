{
 "cells": [
  {
   "cell_type": "markdown",
   "metadata": {},
   "source": [
    "# Basic scikit-learn"
   ]
  },
  {
   "cell_type": "markdown",
   "metadata": {},
   "source": [
    "This notebook contains basic implementation of scikit-learn"
   ]
  },
  {
   "cell_type": "markdown",
   "metadata": {
    "collapsed": true
   },
   "source": [
    "## 1. Detecting fruits using DecisionTreeClassifier:"
   ]
  },
  {
   "cell_type": "code",
   "execution_count": 3,
   "metadata": {
    "collapsed": false
   },
   "outputs": [
    {
     "name": "stdout",
     "output_type": "stream",
     "text": [
      "[1]\n"
     ]
    }
   ],
   "source": [
    "from sklearn import tree\n",
    "\n",
    "features = [[140, 1], [130, 1], [150, 0], [170, 0]]\t#training data\n",
    "#features[x][0] = wt. of fruit\n",
    "#features[x][1] = smooth surface is 1 and rough is 0 (oranges are rough)\n",
    "labels = [0, 0, 1, 1]\t# 0 is apple, 1 is orange\n",
    "clf = tree.DecisionTreeClassifier()\t#start DecisionTreeClassifier()\n",
    "clf = clf.fit(features, labels)\t#feed data for prediction\n",
    "\n",
    "print clf.predict([[160, 0]])\t#returns 1 (orange)"
   ]
  },
  {
   "cell_type": "markdown",
   "metadata": {},
   "source": [
    "## 2. Repeat Ex.1 using KNeighborsClassifier:"
   ]
  },
  {
   "cell_type": "code",
   "execution_count": 4,
   "metadata": {
    "collapsed": false
   },
   "outputs": [
    {
     "name": "stdout",
     "output_type": "stream",
     "text": [
      "[1]\n"
     ]
    }
   ],
   "source": [
    "#from sklearn import tree\n",
    "from sklearn.neighbors import KNeighborsClassifier\n",
    "\n",
    "features = [[140, 1], [130, 1], [150, 0], [170, 0]]\t#training data\n",
    "#features[x][0] = wt. of fruit\n",
    "#features[x][1] = smooth surface is 1 and rough is 0 (oranges are rough)\n",
    "labels = [0, 0, 1, 1]\t# 0 is apple, 1 is orange\n",
    "#clf = tree.DecisionTreeClassifier()\t#start DecisionTreeClassifier()\n",
    "clf = KNeighborsClassifier(n_neighbors=1)\n",
    "clf = clf.fit(features, labels)\t#feed data for prediction\n",
    "\n",
    "print clf.predict([[160, 0]])\t#returns 1 (orange)"
   ]
  },
  {
   "cell_type": "markdown",
   "metadata": {},
   "source": [
    "## 3. A more advanced example using strings:"
   ]
  },
  {
   "cell_type": "code",
   "execution_count": 2,
   "metadata": {
    "collapsed": false
   },
   "outputs": [
    {
     "name": "stdout",
     "output_type": "stream",
     "text": [
      "nice day in nyc => new york\n",
      "welcome to london => london\n",
      "london is rainy => london\n",
      "it is raining in britian => london\n",
      "it is raining in britian and the big apple => new york\n",
      "it is raining in britian and nyc => london, new york\n",
      "hello welcome to new york. enjoy it here and london too => london, new york\n",
      "london is bad place => london\n"
     ]
    }
   ],
   "source": [
    "import numpy as np\n",
    "from sklearn.pipeline import Pipeline\n",
    "from sklearn.feature_extraction.text import CountVectorizer\n",
    "from sklearn.svm import LinearSVC\n",
    "from sklearn.feature_extraction.text import TfidfTransformer\n",
    "from sklearn.multiclass import OneVsRestClassifier\n",
    "from sklearn.preprocessing import MultiLabelBinarizer\n",
    "\n",
    "X_train = np.array([\"new york is a hell of a town\",\n",
    "                    \"new york was originally dutch\",\n",
    "                    \"the big apple is great\",\n",
    "                    \"new york is also called the big apple\",\n",
    "                    \"nyc is nice\",\n",
    "                    \"people abbreviate new york city as nyc\",\n",
    "                    \"the capital of great britain is london\",\n",
    "                    \"london is in the uk\",\n",
    "                    \"london is in england\",\n",
    "                    \"london is in great britain\",\n",
    "                    \"it rains a lot in london\",\n",
    "                    \"london hosts the british museum\",\n",
    "                    \"new york is great and so is london\",\n",
    "                    \"i like london better than new york\"])\n",
    "\n",
    "y_train_text = [[\"new york\"],[\"new york\"],[\"new york\"],[\"new york\"],[\"new york\"],\n",
    "                [\"new york\"],[\"london\"],[\"london\"],[\"london\"],[\"london\"],\n",
    "                [\"london\"],[\"london\"],[\"new york\",\"london\"],[\"new york\",\"london\"]]\n",
    "\n",
    "X_test = np.array(['nice day in nyc',\n",
    "                   'welcome to london',\n",
    "                   'london is rainy',\n",
    "                   'it is raining in britian',\n",
    "                   'it is raining in britian and the big apple',\n",
    "                   'it is raining in britian and nyc',\n",
    "                   'hello welcome to new york. enjoy it here and london too',\n",
    "                   'london is bad place'])\n",
    "\n",
    "#target_names = ['New York', 'London']\n",
    "\n",
    "mlb = MultiLabelBinarizer()\n",
    "Y = mlb.fit_transform(y_train_text)\n",
    "\n",
    "#print(Y)\n",
    "\n",
    "classifier = Pipeline([\n",
    "    ('vectorizer', CountVectorizer()),\n",
    "    ('tfidf', TfidfTransformer()),\n",
    "    ('clf', OneVsRestClassifier(LinearSVC()))])\n",
    "\n",
    "classifier.fit(X_train, Y)\n",
    "predicted = classifier.predict(X_test)\n",
    "all_labels = mlb.inverse_transform(predicted)\n",
    "\n",
    "for item, labels in zip(X_test, all_labels):\n",
    "    print('{0} => {1}'.format(item, ', '.join(labels)))"
   ]
  }
 ],
 "metadata": {
  "kernelspec": {
   "display_name": "Python 2",
   "language": "python",
   "name": "python2"
  },
  "language_info": {
   "codemirror_mode": {
    "name": "ipython",
    "version": 2
   },
   "file_extension": ".py",
   "mimetype": "text/x-python",
   "name": "python",
   "nbconvert_exporter": "python",
   "pygments_lexer": "ipython2",
   "version": "2.7.9"
  }
 },
 "nbformat": 4,
 "nbformat_minor": 2
}
