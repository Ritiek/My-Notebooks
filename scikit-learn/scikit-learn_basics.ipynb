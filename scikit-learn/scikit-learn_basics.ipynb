{
 "cells": [
  {
   "cell_type": "markdown",
   "metadata": {},
   "source": [
    "# Basic scikit-learn"
   ]
  },
  {
   "cell_type": "markdown",
   "metadata": {},
   "source": [
    "This notebook contains basic implementation of scikit-learn"
   ]
  },
  {
   "cell_type": "markdown",
   "metadata": {
    "collapsed": true
   },
   "source": [
    "## 1. Detecting fruits using DecisionTreeClassifier:"
   ]
  },
  {
   "cell_type": "code",
   "execution_count": 3,
   "metadata": {
    "collapsed": false
   },
   "outputs": [
    {
     "name": "stdout",
     "output_type": "stream",
     "text": [
      "[1]\n"
     ]
    }
   ],
   "source": [
    "from sklearn import tree\n",
    "\n",
    "features = [[140, 1], [130, 1], [150, 0], [170, 0]]\t#training data\n",
    "#features[x][0] = wt. of fruit\n",
    "#features[x][1] = smooth surface is 1 and rough is 0 (oranges are rough)\n",
    "labels = [0, 0, 1, 1]\t# 0 is apple, 1 is orange\n",
    "clf = tree.DecisionTreeClassifier()\t#start DecisionTreeClassifier()\n",
    "clf = clf.fit(features, labels)\t#feed data for prediction\n",
    "\n",
    "print clf.predict([[160, 0]])\t#returns 1 (orange)"
   ]
  },
  {
   "cell_type": "markdown",
   "metadata": {},
   "source": [
    "## 2. Repeat Ex.1 using KNeighborsClassifier:"
   ]
  },
  {
   "cell_type": "code",
   "execution_count": 4,
   "metadata": {
    "collapsed": false
   },
   "outputs": [
    {
     "name": "stdout",
     "output_type": "stream",
     "text": [
      "[1]\n"
     ]
    }
   ],
   "source": [
    "#from sklearn import tree\n",
    "from sklearn.neighbors import KNeighborsClassifier\n",
    "\n",
    "features = [[140, 1], [130, 1], [150, 0], [170, 0]]\t#training data\n",
    "#features[x][0] = wt. of fruit\n",
    "#features[x][1] = smooth surface is 1 and rough is 0 (oranges are rough)\n",
    "labels = [0, 0, 1, 1]\t# 0 is apple, 1 is orange\n",
    "#clf = tree.DecisionTreeClassifier()\t#start DecisionTreeClassifier()\n",
    "clf = KNeighborsClassifier(n_neighbors=1)\n",
    "clf = clf.fit(features, labels)\t#feed data for prediction\n",
    "\n",
    "print clf.predict([[160, 0]])\t#returns 1 (orange)"
   ]
  }
 ],
 "metadata": {
  "kernelspec": {
   "display_name": "Python 2",
   "language": "python",
   "name": "python2"
  },
  "language_info": {
   "codemirror_mode": {
    "name": "ipython",
    "version": 2
   },
   "file_extension": ".py",
   "mimetype": "text/x-python",
   "name": "python",
   "nbconvert_exporter": "python",
   "pygments_lexer": "ipython2",
   "version": "2.7.9"
  }
 },
 "nbformat": 4,
 "nbformat_minor": 2
}
